{
 "cells": [
  {
   "cell_type": "code",
   "execution_count": 114,
   "id": "1722e13a-1934-4b64-afc4-dfce8cbba52c",
   "metadata": {},
   "outputs": [],
   "source": [
    "import pandas as pd\n",
    "from sklearn.feature_extraction.text import CountVectorizer\n",
    "from sklearn.metrics.pairwise import cosine_similarity\n",
    "import numpy as np\n",
    "from sklearn.feature_extraction.text import TfidfVectorizer\n",
    "from scipy.sparse import hstack"
   ]
  },
  {
   "cell_type": "code",
   "execution_count": 115,
   "id": "6b1d4771-0227-4b6f-af14-3e17ccd51a9e",
   "metadata": {},
   "outputs": [],
   "source": [
    "# Load the dataset\n",
    "raw_data = pd.read_csv('./data/RAW_recipes.csv')\n",
    "\n",
    "# Load the numerical dataset\n",
    "pp_data = pd.read_csv('./data/PP_recipes.csv')"
   ]
  },
  {
   "cell_type": "code",
   "execution_count": 116,
   "id": "108ff730-d007-40f4-91ea-a0f607664e9f",
   "metadata": {},
   "outputs": [
    {
     "name": "stdout",
     "output_type": "stream",
     "text": [
      "                                        ingredient_tokens  \\\n",
      "124475  [[589, 260, 4001, 17918], [1092, 2507, 6444], ...   \n",
      "57837   [[1301, 11007], [978, 21453], [2056, 4178, 113...   \n",
      "19808   [[10837], [13179], [6953], [31578], [6812], [2...   \n",
      "142947  [[17869, 24176], [21453], [38139], [25905], [2...   \n",
      "152996  [[22102, 562, 3905, 260, 19093, 7056], [8780],...   \n",
      "\n",
      "                                             steps_tokens      id  \n",
      "124475  [40480, 40482, 562, 31757, 40478, 40482, 729, ...  286292  \n",
      "57837   [40480, 40482, 500, 246, 1220, 4835, 39587, 23...  138801  \n",
      "19808   [40480, 40482, 14057, 10837, 488, 13179, 500, ...  408706  \n",
      "142947  [40480, 40482, 500, 246, 1719, 4835, 39587, 24...  279202  \n",
      "152996  [40480, 40482, 3612, 551, 22102, 504, 1874, 70...   20521  \n"
     ]
    }
   ],
   "source": [
    "# Randomly sample a subset of the preprocessed data to reduce size\n",
    "sampled_pp_data = pp_data.sample(n=1000, random_state=42) \n",
    "\n",
    "# Check the first few rows of the relevant columns\n",
    "print(sampled_pp_data[['ingredient_tokens', 'steps_tokens', 'id']].head())"
   ]
  },
  {
   "cell_type": "code",
   "execution_count": 117,
   "id": "dce10492-ffbe-425b-9a92-338f39b4fe46",
   "metadata": {},
   "outputs": [],
   "source": [
    "# Convert the nested lists to strings for ingredients\n",
    "ingredient_strings = [' '.join([' '.join(map(str, group)) for group in eval(ingredient)]) for ingredient in sampled_pp_data['ingredient_tokens']]\n",
    "\n",
    "# Similarly, convert the nested lists to strings for steps\n",
    "step_strings = [' '.join(map(str, eval(step))) for step in sampled_pp_data['steps_tokens']]\n",
    "\n",
    "# Vectorize ingredients and steps separately\n",
    "ingredient_vectorizer = CountVectorizer()\n",
    "ingredient_features = ingredient_vectorizer.fit_transform(ingredient_strings)\n",
    "\n",
    "step_vectorizer = CountVectorizer()\n",
    "step_features = step_vectorizer.fit_transform(step_strings)"
   ]
  },
  {
   "cell_type": "code",
   "execution_count": 118,
   "id": "e13e2b6b-8790-477e-b00c-181f0f030149",
   "metadata": {},
   "outputs": [],
   "source": [
    "# Combine features\n",
    "combined_features = hstack([ingredient_features, step_features])\n",
    "\n",
    "# Calculate cosine similarity\n",
    "similarity_matrix = cosine_similarity(combined_features)"
   ]
  },
  {
   "cell_type": "code",
   "execution_count": 119,
   "id": "84575dad-b39d-4a8e-9216-d6151e51c7fc",
   "metadata": {},
   "outputs": [],
   "source": [
    "# Function to retrieve top similar recipes\n",
    "def get_top_similar_recipes(similarity_matrix, query_index, n=10):\n",
    "    query_distances = similarity_matrix[query_index]\n",
    "    similar_indices = np.argsort(query_distances)[::-1][1:n+1]\n",
    "    \n",
    "    # Return the ID, name, and score for each similar recipe\n",
    "    similar_recipes = []\n",
    "    for i in similar_indices:\n",
    "        similar_id = sampled_pp_data.iloc[i]['id']\n",
    "        similar_name = id_to_name[similar_id]\n",
    "        score = query_distances[i]\n",
    "        similar_recipes.append((similar_id, similar_name, score))\n",
    "    \n",
    "    return similar_recipes"
   ]
  },
  {
   "cell_type": "code",
   "execution_count": 121,
   "id": "1bb1bf52-961b-4060-bf54-cae119d43304",
   "metadata": {},
   "outputs": [
    {
     "name": "stdout",
     "output_type": "stream",
     "text": [
      "Top similar recipes for 'apple blackberry pie' (ID: 286292):\n",
      "  - pecan pie (Similarity Score: 0.8546)\n",
      "  - blueberry overnight french toast (Similarity Score: 0.8407)\n",
      "  - pineanna nut cake (Similarity Score: 0.8345)\n",
      "  - chocolate drizzled shortbread (Similarity Score: 0.8295)\n",
      "  - razz ma tazz bars (Similarity Score: 0.8256)\n",
      "  - original nestle toll house chocolate chunk cookies (Similarity Score: 0.8210)\n",
      "  - pappadeaux blackened oyster and shrimp fondeaux (Similarity Score: 0.8202)\n",
      "  - raspberry pudding (Similarity Score: 0.8158)\n",
      "  - very lemon cake with lush lemon frosting (Similarity Score: 0.8131)\n",
      "  - no knead knot rolls (Similarity Score: 0.8119)\n",
      "\n",
      "\n",
      "Top similar recipes for 'traci s black bean salsa' (ID: 138801):\n",
      "  - treat the team milo cookies (Similarity Score: 0.7543)\n",
      "  - triple lemon ripple cake (Similarity Score: 0.7313)\n",
      "  - cherry mint iced tea (Similarity Score: 0.7313)\n",
      "  - tea smoked chicken (Similarity Score: 0.7312)\n",
      "  - garlic stuffed pork roast with glaze (Similarity Score: 0.7264)\n",
      "  - roast potatoes in sweet hot sauce   patatas bravas (Similarity Score: 0.7263)\n",
      "  - choco apricot muffins (Similarity Score: 0.7249)\n",
      "  - sugar hill blueberry muffins (Similarity Score: 0.7233)\n",
      "  - chunky white chocolate raspberry muffins (Similarity Score: 0.7231)\n",
      "  - best apple cake (Similarity Score: 0.7222)\n",
      "\n",
      "\n",
      "Top similar recipes for 'haitian potato salad' (ID: 408706):\n",
      "  - deep south creole potato salad (Similarity Score: 0.7742)\n",
      "  - sara s shepherds pie (Similarity Score: 0.7643)\n",
      "  - easy supper rice salad (Similarity Score: 0.7485)\n",
      "  - roast beef pasta salad (Similarity Score: 0.7396)\n",
      "  - moist turkey meatloaf with sauce (Similarity Score: 0.7330)\n",
      "  - mixed mushroom tart (Similarity Score: 0.7313)\n",
      "  - crock pot curry chicken with coconut and peanuts (Similarity Score: 0.7305)\n",
      "  - creamed mashed potatoes with spinach (Similarity Score: 0.7290)\n",
      "  - vegetables marinated in a garlic dressing (Similarity Score: 0.7284)\n",
      "  - creamy broccoli slaw (Similarity Score: 0.7272)\n",
      "\n",
      "\n"
     ]
    }
   ],
   "source": [
    "# Create a mapping from recipe IDs to names\n",
    "id_to_name = dict(zip(raw_data['id'], raw_data['name']))\n",
    "\n",
    "# Define the indices of the recipes you want to query\n",
    "query_indices = [0, 1, 2]\n",
    "\n",
    "# Identify and display the top 10 similar recipes for each query\n",
    "for index in query_indices:\n",
    "    similar_recipes = get_top_similar_recipes(similarity_matrix, index)\n",
    "    \n",
    "    # Get the name of the recipe corresponding to the current index\n",
    "    recipe_id = sampled_pp_data.iloc[index]['id']\n",
    "    recipe_name = id_to_name[recipe_id]  # Get the name using the ID\n",
    "\n",
    "    print(f\"Top similar recipes for '{recipe_name}' (ID: {recipe_id}):\")\n",
    "    \n",
    "    for similar_id, similar_name, score in similar_recipes:\n",
    "        print(f\"  - {similar_name} (Similarity Score: {score:.4f})\")\n",
    "    print(\"\\n\")"
   ]
  },
  {
   "cell_type": "code",
   "execution_count": null,
   "id": "05bdfb46-92f4-4a55-a4e4-29087661659a",
   "metadata": {},
   "outputs": [],
   "source": []
  }
 ],
 "metadata": {
  "kernelspec": {
   "display_name": "Python 3 (ipykernel)",
   "language": "python",
   "name": "python3"
  },
  "language_info": {
   "codemirror_mode": {
    "name": "ipython",
    "version": 3
   },
   "file_extension": ".py",
   "mimetype": "text/x-python",
   "name": "python",
   "nbconvert_exporter": "python",
   "pygments_lexer": "ipython3",
   "version": "3.12.6"
  }
 },
 "nbformat": 4,
 "nbformat_minor": 5
}
